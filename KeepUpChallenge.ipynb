{
 "cells": [
  {
   "cell_type": "code",
   "execution_count": 1,
   "metadata": {
    "collapsed": false
   },
   "outputs": [
    {
     "data": {
      "text/plain": [
       "'C:\\\\Users\\\\Maria\\\\Documents'"
      ]
     },
     "execution_count": 1,
     "metadata": {},
     "output_type": "execute_result"
    }
   ],
   "source": [
    "import os\n",
    "os.getcwd()"
   ]
  },
  {
   "cell_type": "code",
   "execution_count": 2,
   "metadata": {
    "collapsed": false
   },
   "outputs": [],
   "source": [
    "import numpy as np\n",
    "import pandas as pd"
   ]
  },
  {
   "cell_type": "code",
   "execution_count": 3,
   "metadata": {
    "collapsed": false
   },
   "outputs": [
    {
     "name": "stderr",
     "output_type": "stream",
     "text": [
      "C:\\Users\\Maria\\Anaconda2\\lib\\site-packages\\numpy\\core\\_methods.py:82: RuntimeWarning: Degrees of freedom <= 0 for slice\n",
      "  warnings.warn(\"Degrees of freedom <= 0 for slice\", RuntimeWarning)\n",
      "C:\\Users\\Maria\\Anaconda2\\lib\\site-packages\\numpy\\core\\_methods.py:94: RuntimeWarning: invalid value encountered in true_divide\n",
      "  arrmean, rcount, out=arrmean, casting='unsafe', subok=False)\n",
      "C:\\Users\\Maria\\Anaconda2\\lib\\site-packages\\numpy\\core\\_methods.py:116: RuntimeWarning: invalid value encountered in double_scalars\n",
      "  ret = ret.dtype.type(ret / rcount)\n"
     ]
    }
   ],
   "source": [
    "with open('amazon-meta.txt') as ama_meta:\n",
    "    line_nb = 0\n",
    "    ratings = []\n",
    "    votess = []\n",
    "    helpfuls = []\n",
    "    ranges = []\n",
    "    stds = []\n",
    "    title = ''\n",
    "    for line in ama_meta:\n",
    "        \n",
    "        if line.find('title') != -1:\n",
    "            if title != '':\n",
    "                if len(ratings) == 0:\n",
    "                    range_ = 0\n",
    "                else:\n",
    "                    range_ = max(ratings) - min(ratings)\n",
    "                std_ = np.std(ratings)\n",
    "                #print title, range_, std_\n",
    "                ranges.append(range_)\n",
    "                stds.append(std_)\n",
    "            title = line.replace('title: ','')[:-1]\n",
    "            \n",
    "            ratings = []\n",
    "            votess = []\n",
    "            helpfuls = []\n",
    "            \n",
    "        if line.find('group') != -1:\n",
    "            group = line.split()[-1]\n",
    "            #print group\n",
    "            if group != 'Book':\n",
    "                continue\n",
    "            #else:\n",
    "            #    print title, ratings, votess, helpfuls\n",
    "        if line.find(' rating:') != -1:\n",
    "            line_lst = line.split()\n",
    "            if len(line_lst) == 9:\n",
    "                #print line_lst\n",
    "                rating = int(line_lst[4])\n",
    "                votes = int(line_lst[6])\n",
    "                helpful = int(line_lst[8])\n",
    "                ratings.append(rating)\n",
    "                votess.append(votes)\n",
    "                helpfuls.append(helpful)\n",
    "                #print ratings, votess, helpfuls\n",
    "                \n",
    "            line_nb+=1\n",
    "    s_range = pd.Series(ranges)\n",
    "    s_std = pd.Series(stds)"
   ]
  },
  {
   "cell_type": "code",
   "execution_count": 4,
   "metadata": {
    "collapsed": true
   },
   "outputs": [],
   "source": [
    "import matplotlib\n",
    "%matplotlib inline"
   ]
  },
  {
   "cell_type": "code",
   "execution_count": 5,
   "metadata": {
    "collapsed": false
   },
   "outputs": [
    {
     "data": {
      "text/plain": [
       "<matplotlib.axes._subplots.AxesSubplot at 0xd490198>"
      ]
     },
     "execution_count": 5,
     "metadata": {},
     "output_type": "execute_result"
    },
    {
     "data": {
      "image/png": "[encoded data removed]",
      "text/plain": [
       "<matplotlib.figure.Figure at 0xd3c6b38>"
      ]
     },
     "metadata": {},
     "output_type": "display_data"
    }
   ],
   "source": [
    "s_range.hist(bins = 5, normed=True)"
   ]
  },
  {
   "cell_type": "code",
   "execution_count": 6,
   "metadata": {
    "collapsed": false
   },
   "outputs": [
    {
     "data": {
      "text/plain": [
       "<matplotlib.axes._subplots.AxesSubplot at 0xd941a58>"
      ]
     },
     "execution_count": 6,
     "metadata": {},
     "output_type": "execute_result"
    },
    {
     "data": {
      "image/png": "[encoded data removed]",
      "text/plain": [
       "<matplotlib.figure.Figure at 0xd5b1240>"
      ]
     },
     "metadata": {},
     "output_type": "display_data"
    }
   ],
   "source": [
    "s_std.hist(bins=3, normed=True)"
   ]
  },
  {
   "cell_type": "markdown",
   "metadata": {},
   "source": [
    "### What can we say about the ratings in the dataset?\n",
    "\n",
    "In the above histograms we plot the distributions of range and std deviation of the ratings. We see that for about 68% of the items the ratings are limited to a range of one, which means that they are very consistent for most of the items.\n",
    "However, for about 23% of the items, we do see high ranges of 4.\n",
    "\n",
    "When we look at the standard deviation of ratings, we see that for most i.e. 90% of the ratings, the standard deviation is less than 0.5 and for about 20% of the items, it is in the range of 1.5 to 2.0. This also implies that the high range of 4 for 20% of the items is because of the outliers not the bulk of the ratings. \n",
    "\n",
    "Our conclusion is that on average the ratings are a reliable measure of product quality."
   ]
  },
  {
   "cell_type": "markdown",
   "metadata": {},
   "source": [
    "### What can we say about the ratings in the dataset?\n",
    "\n",
    "In the above histograms we plot the distributions of range and std deviation of the ratings. We see that for about 68% of the items the ratings are limited to a range of one, which means that they are very consistent for most of the items.\n",
    "However, for about 23% of the items, we do see high ranges of 4.\n",
    "\n",
    "When we look at the standard deviation of ratings, we see that for most i.e. 90% of the ratings, the standard deviation is less than 0.5 and for about 20% of the items, it is in the range of 1.5 to 2.0. This also implies that the high range of 4 for 20% of the items (mentioned in the previous paragraph) is because of the outliers not the bulk of the ratings; otherwise, we'd have seen a similar distribution for the standard deviation.\n",
    "\n",
    "Our conclusion is that on average the ratings are a reliable measure of product quality."
   ]
  },
  {
   "cell_type": "code",
   "execution_count": 22,
   "metadata": {
    "collapsed": false
   },
   "outputs": [],
   "source": [
    "with open('amazon-meta.txt') as ama_meta:\n",
    "    line_nb = 0\n",
    "    categories = []\n",
    "    for line in ama_meta:\n",
    "        if line.find('Books[') != -1:\n",
    "            line_lst = line.split('|')\n",
    "            for cat in line_lst:\n",
    "                cat_id_str = cat.split('[')[-1].strip()\n",
    "                cat_id_str = cat_id_str.replace(']','')\n",
    "                if cat_id_str != '':\n",
    "                    cat_id = int(cat_id_str)\n",
    "                    categories.append(cat_id)\n",
    "categories.sort()                 "
   ]
  },
  {
   "cell_type": "code",
   "execution_count": 45,
   "metadata": {
    "collapsed": false
   },
   "outputs": [
    {
     "name": "stdout",
     "output_type": "stream",
     "text": [
      "[(283155, 1287060), (1000, 1222836), (4, 134299), (265523, 122154), (285080, 122154), (53, 106977), (22, 93690), (764512, 90413), (17, 84721), (767740, 76458), (3, 74125), (173507, 67693), (5, 66742), (10, 66380), (21, 50115), (9, 48131), (12290, 41872), (75, 41727), (2, 40075), (48, 39598), (1, 36472), (86, 34815), (504358, 34524), (11232, 31391), (605012, 31292), (3074321, 31292), (639538, 31251), (18, 29706), (27, 28400), (13996, 27615), (504360, 27508), (10605, 23721), (10125, 23401), (2966, 23163), (25, 22051), (173514, 21705), (44, 21190), (173510, 21131), (3020, 20509), (26, 20255), (13643, 19461), (767880, 18439), (2612, 18437), (11119, 18111), (6, 18103), (10311, 17210), (11079, 15809), (2785, 15701), (465600, 15230), (4507, 15186), (23, 14994), (11288, 14247), (768162, 13955), (408268, 13703), (11019, 13647), (5126, 13494), (3839, 13358), (520998, 13054), (4808, 13039), (20, 12669), (12809, 12504), (2375, 12243), (4736, 11946), (11289, 11779), (173508, 11475), (10129, 11448), (170062, 11439), (172282, 11204), (493964, 11204), (502394, 11204), (733540, 11204), (2752, 10972), (2020, 10935), (265542, 10784), (170540, 10740), (4853, 10492), (10457, 10440), (28, 10177), (10134, 10094), (290060, 10081), (9822, 9882), (70021, 9852), (2675, 9676), (2787, 9481), (5011, 9451), (640502, 9345), (17227, 9344), (10248, 8775), (10635, 8762), (767882, 8684), (657762, 8661), (4935, 8650), (767992, 8552), (13469, 8540), (2624, 8297), (540744, 8259), (547930, 8206), (559958, 8206), (2581, 8199), (12333, 8079)]\n"
     ]
    }
   ],
   "source": [
    "i = 0\n",
    "tups = []\n",
    "while i < len(categories):\n",
    "    j = i\n",
    "    while categories[j] == categories[i]:\n",
    "        j+=1\n",
    "        if j==len(categories):\n",
    "            break\n",
    "    tups.append((categories[i], j-i))\n",
    "    i = j\n",
    "\n",
    "tups.sort(key=lambda x: x[1], reverse=True)\n",
    "print tups[:100]"
   ]
  },
  {
   "cell_type": "code",
   "execution_count": 39,
   "metadata": {
    "collapsed": false
   },
   "outputs": [
    {
     "data": {
      "text/plain": [
       "14400"
      ]
     },
     "execution_count": 39,
     "metadata": {},
     "output_type": "execute_result"
    }
   ],
   "source": [
    "len(tups)"
   ]
  },
  {
   "cell_type": "code",
   "execution_count": 40,
   "metadata": {
    "collapsed": false
   },
   "outputs": [
    {
     "data": {
      "text/plain": [
       "1440.0"
      ]
     },
     "execution_count": 40,
     "metadata": {},
     "output_type": "execute_result"
    }
   ],
   "source": [
    "0.1 * len(tups)"
   ]
  },
  {
   "cell_type": "code",
   "execution_count": 41,
   "metadata": {
    "collapsed": true
   },
   "outputs": [],
   "source": [
    "# let's remove 10% most frequent categories\n",
    "tups_trunc = tups[1441:]"
   ]
  },
  {
   "cell_type": "code",
   "execution_count": 44,
   "metadata": {
    "collapsed": false
   },
   "outputs": [
    {
     "name": "stdout",
     "output_type": "stream",
     "text": [
      "original category entries = 7876554\n",
      "category entries after removing 10% categories = 760594\n",
      "ratio of new to old category entries = 9.65643097222 %\n"
     ]
    }
   ],
   "source": [
    "num_cat = sum(cat_freq)\n",
    "num_cat_trunc = sum(map(lambda x: x[1], tups_trunc))\n",
    "\n",
    "print 'original category entries =', num_cat\n",
    "print 'category entries after removing 10% categories =', num_cat_trunc\n",
    "print 'ratio of new to old category entries =', num_cat_trunc * 1.0 / num_cat * 100, '%'"
   ]
  },
  {
   "cell_type": "markdown",
   "metadata": {},
   "source": [
    "### Is there redundancy in the categorization?\n",
    "\n",
    "There is a lot of redundancy in the categorization and by removing the top 10% most frequent categories we can reduce the total number of category entries to 10% of the original category entries."
   ]
  },
  {
   "cell_type": "markdown",
   "metadata": {},
   "source": [
    "### How would build the product categorization from scratch, using similar/co-purchased information? \n",
    "\n",
    "I think that agglomerative clustering can help in building the categorization hierarchy for the products. Once such hierarchy has been generated, its various levels may be appropriately named by human workers."
   ]
  },
  {
   "cell_type": "markdown",
   "metadata": {},
   "source": [
    "### Product thinking\n",
    "a. Is it a good idea to show users the categorization hierarchy for items?\n",
    "Yes, this gives the users a browse feature using which they can explore similar items in the online catalogue.\n",
    "\n",
    "b. Is it a good idea to show users similar/co-purchased items?\n",
    "Yes, it is a good idea because users may like to buy another similar item instead that suits them better or has better reviews or ratings.\n",
    "\n",
    "c. Is it a good idea to show users reviews and ratings for items?\n",
    "Yes, this will help the users make informed decisions about their purchases.\n",
    "\n",
    "d. For each of the above, why? How will you establish the same?\n",
    "I think the first two can be established either by doing a controlled experiment and seeing whether the sales increased after these features were implemented. A more detailed study can be done by studying the exploration graph of individual users and the average path length along these graphs where they made the purchase. \n",
    "\n",
    "For establishing c, we can design a controlled experiment to measure the boost/decline in the sales after good/bad reviews have been entered. This can be done by A/B testing, where one version of the website has the reviews and the other doesn't."
   ]
  },
  {
   "cell_type": "code",
   "execution_count": null,
   "metadata": {
    "collapsed": true
   },
   "outputs": [],
   "source": []
  }
 ],
 "metadata": {
  "kernelspec": {
   "display_name": "Python 2",
   "language": "python",
   "name": "python2"
  },
  "language_info": {
   "codemirror_mode": {
    "name": "ipython",
    "version": 2
   },
   "file_extension": ".py",
   "mimetype": "text/x-python",
   "name": "python",
   "nbconvert_exporter": "python",
   "pygments_lexer": "ipython2",
   "version": "2.7.13"
  }
 },
 "nbformat": 4,
 "nbformat_minor": 2
}
